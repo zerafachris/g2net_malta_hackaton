{
 "cells": [
  {
   "cell_type": "code",
   "execution_count": 1,
   "metadata": {
    "ExecuteTime": {
     "end_time": "2020-02-07T15:33:56.773699Z",
     "start_time": "2020-02-07T15:33:56.257948Z"
    }
   },
   "outputs": [],
   "source": [
    "import random\n",
    "import pandas as pd"
   ]
  },
  {
   "cell_type": "markdown",
   "metadata": {},
   "source": [
    "# Load the data"
   ]
  },
  {
   "cell_type": "code",
   "execution_count": 3,
   "metadata": {
    "ExecuteTime": {
     "end_time": "2020-02-07T15:34:41.834214Z",
     "start_time": "2020-02-07T15:34:40.158033Z"
    }
   },
   "outputs": [],
   "source": [
    "# When loading be sure to define the compression\n",
    "df_submission = pd.read_pickle('./data/df_submission.pkl.gzip', compression='gzip')"
   ]
  },
  {
   "cell_type": "code",
   "execution_count": 4,
   "metadata": {
    "ExecuteTime": {
     "end_time": "2020-02-07T15:34:42.620186Z",
     "start_time": "2020-02-07T15:34:42.567897Z"
    }
   },
   "outputs": [
    {
     "name": "stdout",
     "output_type": "stream",
     "text": [
      "Shape (3495, 17)\n"
     ]
    },
    {
     "data": {
      "text/html": [
       "<div>\n",
       "<style scoped>\n",
       "    .dataframe tbody tr th:only-of-type {\n",
       "        vertical-align: middle;\n",
       "    }\n",
       "\n",
       "    .dataframe tbody tr th {\n",
       "        vertical-align: top;\n",
       "    }\n",
       "\n",
       "    .dataframe thead th {\n",
       "        text-align: right;\n",
       "    }\n",
       "</style>\n",
       "<table border=\"1\" class=\"dataframe\">\n",
       "  <thead>\n",
       "    <tr style=\"text-align: right;\">\n",
       "      <th></th>\n",
       "      <th>trace_id</th>\n",
       "      <th>receiver_latitude</th>\n",
       "      <th>receiver_longitude</th>\n",
       "      <th>receiver_elevation_m</th>\n",
       "      <th>p_arrival_sample</th>\n",
       "      <th>p_travel_sec</th>\n",
       "      <th>s_arrival_sample</th>\n",
       "      <th>source_origin_time</th>\n",
       "      <th>source_latitude</th>\n",
       "      <th>source_longitude</th>\n",
       "      <th>source_depth_km</th>\n",
       "      <th>snr_db_E</th>\n",
       "      <th>snr_db_N</th>\n",
       "      <th>snr_db_Z</th>\n",
       "      <th>E</th>\n",
       "      <th>N</th>\n",
       "      <th>Z</th>\n",
       "    </tr>\n",
       "  </thead>\n",
       "  <tbody>\n",
       "    <tr>\n",
       "      <th>0</th>\n",
       "      <td>trace_500</td>\n",
       "      <td>35.581100</td>\n",
       "      <td>-97.337900</td>\n",
       "      <td>348.0</td>\n",
       "      <td>700.0</td>\n",
       "      <td>14.87</td>\n",
       "      <td>1549.6</td>\n",
       "      <td>2007-12-10 22:59:54.860</td>\n",
       "      <td>38.83500</td>\n",
       "      <td>-122.62850</td>\n",
       "      <td>11.80</td>\n",
       "      <td>16.299999</td>\n",
       "      <td>20.400000</td>\n",
       "      <td>16.400000</td>\n",
       "      <td>[47.91391, 54.48873, 104.98932, 68.85939, -89....</td>\n",
       "      <td>[12.68903, -8.055045, -47.11942, -73.752045, 2...</td>\n",
       "      <td>[23.74113, -83.93018, -129.62596, -48.17319, -...</td>\n",
       "    </tr>\n",
       "    <tr>\n",
       "      <th>1</th>\n",
       "      <td>trace_501</td>\n",
       "      <td>36.024860</td>\n",
       "      <td>-120.889270</td>\n",
       "      <td>150.0</td>\n",
       "      <td>901.2</td>\n",
       "      <td>5.41</td>\n",
       "      <td>1721.0</td>\n",
       "      <td>2012-04-10 06:01:45.090</td>\n",
       "      <td>33.52950</td>\n",
       "      <td>-98.04667</td>\n",
       "      <td>10.00</td>\n",
       "      <td>50.700001</td>\n",
       "      <td>80.300003</td>\n",
       "      <td>63.799999</td>\n",
       "      <td>[0.0, 5.890254e-05, 0.00015290757, 0.000394376...</td>\n",
       "      <td>[-0.0, -2.3855828e-05, -6.685466e-05, -0.00018...</td>\n",
       "      <td>[0.0, 9.427659e-05, 0.00025428217, 0.000653952...</td>\n",
       "    </tr>\n",
       "    <tr>\n",
       "      <th>2</th>\n",
       "      <td>trace_502</td>\n",
       "      <td>18.271674</td>\n",
       "      <td>-65.856634</td>\n",
       "      <td>606.9</td>\n",
       "      <td>600.0</td>\n",
       "      <td>12.21</td>\n",
       "      <td>2252.2</td>\n",
       "      <td>2012-01-05 20:25:49.570</td>\n",
       "      <td>36.79917</td>\n",
       "      <td>-117.53630</td>\n",
       "      <td>5.20</td>\n",
       "      <td>17.900000</td>\n",
       "      <td>16.799999</td>\n",
       "      <td>17.000000</td>\n",
       "      <td>[-211.94136, -134.57808, -44.9134, 39.516582, ...</td>\n",
       "      <td>[-9.661635, -4.640383, 9.446987, 30.037794, 50...</td>\n",
       "      <td>[25.040968, 25.636677, 23.085747, 14.101092, -...</td>\n",
       "    </tr>\n",
       "    <tr>\n",
       "      <th>3</th>\n",
       "      <td>trace_503</td>\n",
       "      <td>61.980000</td>\n",
       "      <td>-151.531700</td>\n",
       "      <td>581.0</td>\n",
       "      <td>894.0</td>\n",
       "      <td>3.36</td>\n",
       "      <td>1907.5</td>\n",
       "      <td>2013-04-04 15:00:35.850</td>\n",
       "      <td>37.62200</td>\n",
       "      <td>-97.63350</td>\n",
       "      <td>6.68</td>\n",
       "      <td>38.900002</td>\n",
       "      <td>39.000000</td>\n",
       "      <td>35.400002</td>\n",
       "      <td>[-8.93017, 1.5932446, 10.851206, 18.20302, 23....</td>\n",
       "      <td>[-54.592392, -59.77653, -57.57514, -48.099186,...</td>\n",
       "      <td>[18.863066, 22.867832, 24.935215, 26.854841, 2...</td>\n",
       "    </tr>\n",
       "    <tr>\n",
       "      <th>4</th>\n",
       "      <td>trace_504</td>\n",
       "      <td>64.099700</td>\n",
       "      <td>-150.987300</td>\n",
       "      <td>619.0</td>\n",
       "      <td>400.0</td>\n",
       "      <td>7.83</td>\n",
       "      <td>2015.0</td>\n",
       "      <td>2015-08-09 07:54:19.230</td>\n",
       "      <td>62.09740</td>\n",
       "      <td>176.23340</td>\n",
       "      <td>19.98</td>\n",
       "      <td>13.000000</td>\n",
       "      <td>14.300000</td>\n",
       "      <td>10.500000</td>\n",
       "      <td>[-0.0, -0.004747249, -0.012011067, -0.03082597...</td>\n",
       "      <td>[0.0, 0.00033408226, 0.001664875, 0.0050099394...</td>\n",
       "      <td>[-0.0, -0.013113829, -0.034793645, -0.0906785,...</td>\n",
       "    </tr>\n",
       "  </tbody>\n",
       "</table>\n",
       "</div>"
      ],
      "text/plain": [
       "    trace_id  receiver_latitude  receiver_longitude  receiver_elevation_m  \\\n",
       "0  trace_500          35.581100          -97.337900                 348.0   \n",
       "1  trace_501          36.024860         -120.889270                 150.0   \n",
       "2  trace_502          18.271674          -65.856634                 606.9   \n",
       "3  trace_503          61.980000         -151.531700                 581.0   \n",
       "4  trace_504          64.099700         -150.987300                 619.0   \n",
       "\n",
       "   p_arrival_sample  p_travel_sec  s_arrival_sample      source_origin_time  \\\n",
       "0             700.0         14.87            1549.6 2007-12-10 22:59:54.860   \n",
       "1             901.2          5.41            1721.0 2012-04-10 06:01:45.090   \n",
       "2             600.0         12.21            2252.2 2012-01-05 20:25:49.570   \n",
       "3             894.0          3.36            1907.5 2013-04-04 15:00:35.850   \n",
       "4             400.0          7.83            2015.0 2015-08-09 07:54:19.230   \n",
       "\n",
       "   source_latitude  source_longitude  source_depth_km   snr_db_E   snr_db_N  \\\n",
       "0         38.83500        -122.62850            11.80  16.299999  20.400000   \n",
       "1         33.52950         -98.04667            10.00  50.700001  80.300003   \n",
       "2         36.79917        -117.53630             5.20  17.900000  16.799999   \n",
       "3         37.62200         -97.63350             6.68  38.900002  39.000000   \n",
       "4         62.09740         176.23340            19.98  13.000000  14.300000   \n",
       "\n",
       "    snr_db_Z                                                  E  \\\n",
       "0  16.400000  [47.91391, 54.48873, 104.98932, 68.85939, -89....   \n",
       "1  63.799999  [0.0, 5.890254e-05, 0.00015290757, 0.000394376...   \n",
       "2  17.000000  [-211.94136, -134.57808, -44.9134, 39.516582, ...   \n",
       "3  35.400002  [-8.93017, 1.5932446, 10.851206, 18.20302, 23....   \n",
       "4  10.500000  [-0.0, -0.004747249, -0.012011067, -0.03082597...   \n",
       "\n",
       "                                                   N  \\\n",
       "0  [12.68903, -8.055045, -47.11942, -73.752045, 2...   \n",
       "1  [-0.0, -2.3855828e-05, -6.685466e-05, -0.00018...   \n",
       "2  [-9.661635, -4.640383, 9.446987, 30.037794, 50...   \n",
       "3  [-54.592392, -59.77653, -57.57514, -48.099186,...   \n",
       "4  [0.0, 0.00033408226, 0.001664875, 0.0050099394...   \n",
       "\n",
       "                                                   Z  \n",
       "0  [23.74113, -83.93018, -129.62596, -48.17319, -...  \n",
       "1  [0.0, 9.427659e-05, 0.00025428217, 0.000653952...  \n",
       "2  [25.040968, 25.636677, 23.085747, 14.101092, -...  \n",
       "3  [18.863066, 22.867832, 24.935215, 26.854841, 2...  \n",
       "4  [-0.0, -0.013113829, -0.034793645, -0.0906785,...  "
      ]
     },
     "execution_count": 4,
     "metadata": {},
     "output_type": "execute_result"
    }
   ],
   "source": [
    "print('Shape {}'.format(df_submission.shape))\n",
    "df_submission.head()"
   ]
  },
  {
   "cell_type": "markdown",
   "metadata": {},
   "source": [
    "# Submission Format"
   ]
  },
  {
   "cell_type": "code",
   "execution_count": null,
   "metadata": {
    "ExecuteTime": {
     "end_time": "2020-02-07T15:33:56.914949Z",
     "start_time": "2020-02-07T15:33:56.247Z"
    }
   },
   "outputs": [],
   "source": [
    "y_pred = [random.randint(0,7) for ii in range(df_submission.shape[0]) ]"
   ]
  },
  {
   "cell_type": "code",
   "execution_count": null,
   "metadata": {
    "ExecuteTime": {
     "end_time": "2020-02-07T15:33:56.916482Z",
     "start_time": "2020-02-07T15:33:56.248Z"
    }
   },
   "outputs": [],
   "source": [
    "y_pred[:10]"
   ]
  },
  {
   "cell_type": "code",
   "execution_count": null,
   "metadata": {
    "ExecuteTime": {
     "end_time": "2020-02-07T15:33:56.917817Z",
     "start_time": "2020-02-07T15:33:56.250Z"
    }
   },
   "outputs": [],
   "source": [
    "df_submit = pd.DataFrame({'trace_id' : df_submission['trace_id'],\n",
    "                          'submission' : y_pred})\n",
    "df_submit"
   ]
  },
  {
   "cell_type": "code",
   "execution_count": null,
   "metadata": {
    "ExecuteTime": {
     "end_time": "2020-02-07T15:33:56.919511Z",
     "start_time": "2020-02-07T15:33:56.252Z"
    }
   },
   "outputs": [],
   "source": [
    "df_submit.to_csv('./your_submission.csv',index=False)"
   ]
  },
  {
   "cell_type": "code",
   "execution_count": null,
   "metadata": {},
   "outputs": [],
   "source": []
  }
 ],
 "metadata": {
  "hide_input": false,
  "kernelspec": {
   "display_name": "Python 3",
   "language": "python",
   "name": "python3"
  },
  "language_info": {
   "codemirror_mode": {
    "name": "ipython",
    "version": 3
   },
   "file_extension": ".py",
   "mimetype": "text/x-python",
   "name": "python",
   "nbconvert_exporter": "python",
   "pygments_lexer": "ipython3",
   "version": "3.7.6"
  },
  "toc": {
   "base_numbering": 1,
   "nav_menu": {},
   "number_sections": true,
   "sideBar": true,
   "skip_h1_title": false,
   "title_cell": "Table of Contents",
   "title_sidebar": "Contents",
   "toc_cell": false,
   "toc_position": {
    "height": "calc(100% - 180px)",
    "left": "10px",
    "top": "150px",
    "width": "336px"
   },
   "toc_section_display": true,
   "toc_window_display": true
  }
 },
 "nbformat": 4,
 "nbformat_minor": 2
}
