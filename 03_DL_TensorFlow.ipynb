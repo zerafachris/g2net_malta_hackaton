{
 "cells": [
  {
   "cell_type": "code",
   "execution_count": 1,
   "metadata": {
    "ExecuteTime": {
     "end_time": "2020-02-07T08:50:05.960230Z",
     "start_time": "2020-02-07T08:50:01.754757Z"
    }
   },
   "outputs": [],
   "source": [
    "import os\n",
    "import numpy as np\n",
    "import pandas as pd\n",
    "import sklearn.metrics as metrics\n",
    "from sklearn.metrics import classification_report\n",
    "import matplotlib.pyplot as plt\n",
    "from MachineLearningUtils import plot_confustion_matrix, plot_network_learning_graphs, error_rate\n",
    "from tensorflow.keras.utils import to_categorical\n",
    "\n",
    "from tensorflow.keras.layers import Conv1D, Dense, Flatten\n",
    "from tensorflow.keras import models\n",
    "from tensorflow.keras.optimizers import Adam\n",
    "from tensorflow.keras.losses import CategoricalCrossentropy\n",
    "from tensorflow.keras.callbacks import EarlyStopping, ReduceLROnPlateau"
   ]
  },
  {
   "cell_type": "markdown",
   "metadata": {},
   "source": [
    "# import data"
   ]
  },
  {
   "cell_type": "code",
   "execution_count": 2,
   "metadata": {
    "ExecuteTime": {
     "end_time": "2020-02-07T08:50:11.350207Z",
     "start_time": "2020-02-07T08:50:05.962761Z"
    }
   },
   "outputs": [],
   "source": [
    "df = pd.read_pickle('./data/df_train.pkl.gzip', compression = 'gzip')"
   ]
  },
  {
   "cell_type": "code",
   "execution_count": 3,
   "metadata": {
    "ExecuteTime": {
     "end_time": "2020-02-07T08:50:11.388771Z",
     "start_time": "2020-02-07T08:50:11.352657Z"
    }
   },
   "outputs": [
    {
     "data": {
      "text/html": [
       "<div>\n",
       "<style scoped>\n",
       "    .dataframe tbody tr th:only-of-type {\n",
       "        vertical-align: middle;\n",
       "    }\n",
       "\n",
       "    .dataframe tbody tr th {\n",
       "        vertical-align: top;\n",
       "    }\n",
       "\n",
       "    .dataframe thead th {\n",
       "        text-align: right;\n",
       "    }\n",
       "</style>\n",
       "<table border=\"1\" class=\"dataframe\">\n",
       "  <thead>\n",
       "    <tr style=\"text-align: right;\">\n",
       "      <th></th>\n",
       "      <th>label</th>\n",
       "      <th>target</th>\n",
       "      <th>trace_id</th>\n",
       "      <th>receiver_latitude</th>\n",
       "      <th>receiver_longitude</th>\n",
       "      <th>receiver_elevation_m</th>\n",
       "      <th>p_arrival_sample</th>\n",
       "      <th>p_travel_sec</th>\n",
       "      <th>s_arrival_sample</th>\n",
       "      <th>source_origin_time</th>\n",
       "      <th>source_latitude</th>\n",
       "      <th>source_longitude</th>\n",
       "      <th>source_depth_km</th>\n",
       "      <th>snr_db_E</th>\n",
       "      <th>snr_db_N</th>\n",
       "      <th>snr_db_Z</th>\n",
       "      <th>E</th>\n",
       "      <th>N</th>\n",
       "      <th>Z</th>\n",
       "    </tr>\n",
       "  </thead>\n",
       "  <tbody>\n",
       "    <tr>\n",
       "      <th>1</th>\n",
       "      <td>Near_Small</td>\n",
       "      <td>1</td>\n",
       "      <td>trace_1</td>\n",
       "      <td>33.598182</td>\n",
       "      <td>-116.596005</td>\n",
       "      <td>1374.8</td>\n",
       "      <td>500.0</td>\n",
       "      <td>7.39588</td>\n",
       "      <td>1833.0</td>\n",
       "      <td>2017-10-12 02:55:02.969</td>\n",
       "      <td>35.561667</td>\n",
       "      <td>-116.5697</td>\n",
       "      <td>13.92</td>\n",
       "      <td>39.799999</td>\n",
       "      <td>41.599998</td>\n",
       "      <td>39.500000</td>\n",
       "      <td>[0.0, 3.884492e-05, 0.00037855064, 0.002025907...</td>\n",
       "      <td>[-0.0, -0.00013965365, 0.00040082424, -0.00251...</td>\n",
       "      <td>[0.0, 0.00020642515, -0.00026392427, 0.0005670...</td>\n",
       "    </tr>\n",
       "    <tr>\n",
       "      <th>2</th>\n",
       "      <td>Far_Medium</td>\n",
       "      <td>5</td>\n",
       "      <td>trace_2</td>\n",
       "      <td>33.655160</td>\n",
       "      <td>-115.990060</td>\n",
       "      <td>538.0</td>\n",
       "      <td>800.0</td>\n",
       "      <td>8.64000</td>\n",
       "      <td>2055.2</td>\n",
       "      <td>2012-05-29 21:39:41.030</td>\n",
       "      <td>69.509000</td>\n",
       "      <td>-116.3350</td>\n",
       "      <td>5.56</td>\n",
       "      <td>22.900000</td>\n",
       "      <td>28.299999</td>\n",
       "      <td>22.299999</td>\n",
       "      <td>[-0.0, 0.007055464, 0.02053014, -0.08816139, -...</td>\n",
       "      <td>[0.0, 0.0045861118, -0.013594023, -0.06492513,...</td>\n",
       "      <td>[0.0, 0.010553602, 0.04499443, 0.07075505, -0....</td>\n",
       "    </tr>\n",
       "    <tr>\n",
       "      <th>4</th>\n",
       "      <td>Near_Medium</td>\n",
       "      <td>2</td>\n",
       "      <td>trace_4</td>\n",
       "      <td>19.333395</td>\n",
       "      <td>-155.385650</td>\n",
       "      <td>836.0</td>\n",
       "      <td>900.0</td>\n",
       "      <td>7.77000</td>\n",
       "      <td>1401.0</td>\n",
       "      <td>2018-04-23 03:03:17.385</td>\n",
       "      <td>33.075200</td>\n",
       "      <td>73.6821</td>\n",
       "      <td>9.41</td>\n",
       "      <td>12.600000</td>\n",
       "      <td>22.000000</td>\n",
       "      <td>18.299999</td>\n",
       "      <td>[0.0, 0.00087343936, 0.001654511, 0.003251037,...</td>\n",
       "      <td>[-0.0, -0.0024113357, -0.0057321144, -0.017913...</td>\n",
       "      <td>[-0.0, -0.00079455395, -0.0040257163, -0.01145...</td>\n",
       "    </tr>\n",
       "    <tr>\n",
       "      <th>5</th>\n",
       "      <td>Far_Small</td>\n",
       "      <td>4</td>\n",
       "      <td>trace_5</td>\n",
       "      <td>35.935700</td>\n",
       "      <td>-117.601700</td>\n",
       "      <td>1042.6</td>\n",
       "      <td>800.0</td>\n",
       "      <td>2.68000</td>\n",
       "      <td>1416.0</td>\n",
       "      <td>2013-03-11 16:56:06.060</td>\n",
       "      <td>38.612300</td>\n",
       "      <td>-122.6970</td>\n",
       "      <td>118.79</td>\n",
       "      <td>30.600000</td>\n",
       "      <td>29.100000</td>\n",
       "      <td>33.000000</td>\n",
       "      <td>[-0.0, -0.00044424256, -0.00061723316, -0.0027...</td>\n",
       "      <td>[0.0, 2.6028414e-05, -0.00040918458, 0.0047532...</td>\n",
       "      <td>[0.0, 0.00034063237, 0.0003412804, 0.000484175...</td>\n",
       "    </tr>\n",
       "    <tr>\n",
       "      <th>6</th>\n",
       "      <td>Noise</td>\n",
       "      <td>0</td>\n",
       "      <td>trace_6</td>\n",
       "      <td>64.564600</td>\n",
       "      <td>-165.373200</td>\n",
       "      <td>338.0</td>\n",
       "      <td>697.2</td>\n",
       "      <td>1.41000</td>\n",
       "      <td>674.0</td>\n",
       "      <td>2018-01-05 13:16:17.060</td>\n",
       "      <td>60.036800</td>\n",
       "      <td>-155.2055</td>\n",
       "      <td>2.17</td>\n",
       "      <td>47.099998</td>\n",
       "      <td>18.100000</td>\n",
       "      <td>49.400002</td>\n",
       "      <td>[-0.0, -0.0059266915, -0.01604839, -0.04224359...</td>\n",
       "      <td>[-0.0, -0.0059266915, -0.01604839, -0.04224359...</td>\n",
       "      <td>[-0.0, -0.0059266915, -0.01604839, -0.04224359...</td>\n",
       "    </tr>\n",
       "  </tbody>\n",
       "</table>\n",
       "</div>"
      ],
      "text/plain": [
       "         label  target trace_id  receiver_latitude  receiver_longitude  \\\n",
       "1   Near_Small       1  trace_1          33.598182         -116.596005   \n",
       "2   Far_Medium       5  trace_2          33.655160         -115.990060   \n",
       "4  Near_Medium       2  trace_4          19.333395         -155.385650   \n",
       "5    Far_Small       4  trace_5          35.935700         -117.601700   \n",
       "6        Noise       0  trace_6          64.564600         -165.373200   \n",
       "\n",
       "   receiver_elevation_m  p_arrival_sample  p_travel_sec  s_arrival_sample  \\\n",
       "1                1374.8             500.0       7.39588            1833.0   \n",
       "2                 538.0             800.0       8.64000            2055.2   \n",
       "4                 836.0             900.0       7.77000            1401.0   \n",
       "5                1042.6             800.0       2.68000            1416.0   \n",
       "6                 338.0             697.2       1.41000             674.0   \n",
       "\n",
       "       source_origin_time  source_latitude  source_longitude  source_depth_km  \\\n",
       "1 2017-10-12 02:55:02.969        35.561667         -116.5697            13.92   \n",
       "2 2012-05-29 21:39:41.030        69.509000         -116.3350             5.56   \n",
       "4 2018-04-23 03:03:17.385        33.075200           73.6821             9.41   \n",
       "5 2013-03-11 16:56:06.060        38.612300         -122.6970           118.79   \n",
       "6 2018-01-05 13:16:17.060        60.036800         -155.2055             2.17   \n",
       "\n",
       "    snr_db_E   snr_db_N   snr_db_Z  \\\n",
       "1  39.799999  41.599998  39.500000   \n",
       "2  22.900000  28.299999  22.299999   \n",
       "4  12.600000  22.000000  18.299999   \n",
       "5  30.600000  29.100000  33.000000   \n",
       "6  47.099998  18.100000  49.400002   \n",
       "\n",
       "                                                   E  \\\n",
       "1  [0.0, 3.884492e-05, 0.00037855064, 0.002025907...   \n",
       "2  [-0.0, 0.007055464, 0.02053014, -0.08816139, -...   \n",
       "4  [0.0, 0.00087343936, 0.001654511, 0.003251037,...   \n",
       "5  [-0.0, -0.00044424256, -0.00061723316, -0.0027...   \n",
       "6  [-0.0, -0.0059266915, -0.01604839, -0.04224359...   \n",
       "\n",
       "                                                   N  \\\n",
       "1  [-0.0, -0.00013965365, 0.00040082424, -0.00251...   \n",
       "2  [0.0, 0.0045861118, -0.013594023, -0.06492513,...   \n",
       "4  [-0.0, -0.0024113357, -0.0057321144, -0.017913...   \n",
       "5  [0.0, 2.6028414e-05, -0.00040918458, 0.0047532...   \n",
       "6  [-0.0, -0.0059266915, -0.01604839, -0.04224359...   \n",
       "\n",
       "                                                   Z  \n",
       "1  [0.0, 0.00020642515, -0.00026392427, 0.0005670...  \n",
       "2  [0.0, 0.010553602, 0.04499443, 0.07075505, -0....  \n",
       "4  [-0.0, -0.00079455395, -0.0040257163, -0.01145...  \n",
       "5  [0.0, 0.00034063237, 0.0003412804, 0.000484175...  \n",
       "6  [-0.0, -0.0059266915, -0.01604839, -0.04224359...  "
      ]
     },
     "execution_count": 3,
     "metadata": {},
     "output_type": "execute_result"
    }
   ],
   "source": [
    "df.head()"
   ]
  },
  {
   "cell_type": "code",
   "execution_count": 4,
   "metadata": {
    "ExecuteTime": {
     "end_time": "2020-02-07T08:50:11.394582Z",
     "start_time": "2020-02-07T08:50:11.391091Z"
    }
   },
   "outputs": [
    {
     "data": {
      "text/plain": [
       "(12308, 19)"
      ]
     },
     "execution_count": 4,
     "metadata": {},
     "output_type": "execute_result"
    }
   ],
   "source": [
    "df.shape"
   ]
  },
  {
   "cell_type": "markdown",
   "metadata": {},
   "source": [
    "# Prepare & Check data "
   ]
  },
  {
   "cell_type": "code",
   "execution_count": 5,
   "metadata": {
    "ExecuteTime": {
     "end_time": "2020-02-07T08:50:11.406804Z",
     "start_time": "2020-02-07T08:50:11.396695Z"
    }
   },
   "outputs": [
    {
     "name": "stdout",
     "output_type": "stream",
     "text": [
      "X : \n",
      "receiver_latitude       12308\n",
      "receiver_longitude      12308\n",
      "receiver_elevation_m    12308\n",
      "p_arrival_sample        12308\n",
      "p_travel_sec            12308\n",
      "s_arrival_sample        12308\n",
      "source_origin_time      12308\n",
      "source_latitude         12308\n",
      "source_longitude        12308\n",
      "source_depth_km         12308\n",
      "snr_db_E                12308\n",
      "snr_db_N                12308\n",
      "snr_db_Z                12308\n",
      "dtype: int64\n",
      "\n",
      "Y: \n",
      "12308\n",
      "\n",
      "Distinct classes : 7\n"
     ]
    }
   ],
   "source": [
    "X = df.drop(['label','target','trace_id','E','N','Z'],axis=1)\n",
    "Y = df['target']\n",
    "\n",
    "print('X : ')\n",
    "print(X.count())\n",
    "print()\n",
    "print('Y: ')\n",
    "print(Y.count())\n",
    "\n",
    "Y_labels = Y\n",
    "Y_count_labels = len(set(Y))\n",
    "\n",
    "print()\n",
    "print('Distinct classes :', Y_count_labels)"
   ]
  },
  {
   "cell_type": "markdown",
   "metadata": {},
   "source": [
    "# Train-Test Split"
   ]
  },
  {
   "cell_type": "code",
   "execution_count": 6,
   "metadata": {
    "ExecuteTime": {
     "end_time": "2020-02-07T08:50:25.014763Z",
     "start_time": "2020-02-07T08:50:11.408651Z"
    }
   },
   "outputs": [],
   "source": [
    "X_train = pd.read_pickle('./data/df_train.pkl.gzip', compression='gzip')[['E','N','Z']]\n",
    "X_test = pd.read_pickle('./data/df_test.pkl.gzip', compression='gzip')[['E','N','Z']]\n",
    "y_train = pd.read_pickle('./data/df_train.pkl.gzip', compression='gzip')['target']\n",
    "y_test = pd.read_pickle('./data/df_test.pkl.gzip', compression='gzip')['target']"
   ]
  },
  {
   "cell_type": "code",
   "execution_count": 7,
   "metadata": {
    "ExecuteTime": {
     "end_time": "2020-02-07T08:50:25.021606Z",
     "start_time": "2020-02-07T08:50:25.018086Z"
    }
   },
   "outputs": [
    {
     "name": "stdout",
     "output_type": "stream",
     "text": [
      "X_train :  (12308, 3)\n",
      "X_test:  (3078, 3)\n",
      "Y_train:  (12308,)\n",
      "Y_test:  (3078,)\n"
     ]
    }
   ],
   "source": [
    "print('X_train : ', X_train.shape)\n",
    "print('X_test: ', X_test.shape)\n",
    "print('Y_train: ', y_train.shape)\n",
    "print('Y_test: ', y_test.shape)"
   ]
  },
  {
   "cell_type": "markdown",
   "metadata": {},
   "source": [
    "# Preperation for TensorFlow"
   ]
  },
  {
   "cell_type": "code",
   "execution_count": 8,
   "metadata": {
    "ExecuteTime": {
     "end_time": "2020-02-07T08:50:26.915730Z",
     "start_time": "2020-02-07T08:50:25.024380Z"
    }
   },
   "outputs": [],
   "source": [
    "X_train = np.stack([np.stack([e,n,z], axis=1) for e,n,z in zip(X_train['E'],X_train['N'], X_train['Z']) ],axis=0)\n",
    "X_test  = np.stack([np.stack([e,n,z], axis=1) for e,n,z in zip(X_test['E'],X_test['N'], X_test['Z']) ],axis=0)"
   ]
  },
  {
   "cell_type": "code",
   "execution_count": 9,
   "metadata": {
    "ExecuteTime": {
     "end_time": "2020-02-07T08:50:26.924673Z",
     "start_time": "2020-02-07T08:50:26.918634Z"
    }
   },
   "outputs": [],
   "source": [
    "y_train = to_categorical(y_train,7)\n",
    "y_test = to_categorical(y_test,7)"
   ]
  },
  {
   "cell_type": "code",
   "execution_count": 10,
   "metadata": {
    "ExecuteTime": {
     "end_time": "2020-02-07T08:50:26.934279Z",
     "start_time": "2020-02-07T08:50:26.927356Z"
    }
   },
   "outputs": [
    {
     "name": "stdout",
     "output_type": "stream",
     "text": [
      "X_train :  (12308, 6000, 3)\n",
      "X_test:  (3078, 6000, 3)\n",
      "Y_train:  (12308, 7)\n",
      "Y_test:  (3078, 7)\n"
     ]
    }
   ],
   "source": [
    "print('X_train : ', X_train.shape)\n",
    "print('X_test: ', X_test.shape)\n",
    "print('Y_train: ', y_train.shape)\n",
    "print('Y_test: ', y_test.shape)"
   ]
  },
  {
   "cell_type": "markdown",
   "metadata": {},
   "source": [
    "# Deep Learning Model\n",
    "## Create Model"
   ]
  },
  {
   "cell_type": "code",
   "execution_count": 11,
   "metadata": {
    "ExecuteTime": {
     "end_time": "2020-02-07T08:50:27.260622Z",
     "start_time": "2020-02-07T08:50:26.937578Z"
    }
   },
   "outputs": [
    {
     "name": "stdout",
     "output_type": "stream",
     "text": [
      "Model: \"sequential\"\n",
      "_________________________________________________________________\n",
      "Layer (type)                 Output Shape              Param #   \n",
      "=================================================================\n",
      "conv1d (Conv1D)              (None, 3000, 32)          320       \n",
      "_________________________________________________________________\n",
      "conv1d_1 (Conv1D)            (None, 1500, 32)          3104      \n",
      "_________________________________________________________________\n",
      "conv1d_2 (Conv1D)            (None, 750, 32)           3104      \n",
      "_________________________________________________________________\n",
      "conv1d_3 (Conv1D)            (None, 375, 32)           3104      \n",
      "_________________________________________________________________\n",
      "conv1d_4 (Conv1D)            (None, 188, 32)           3104      \n",
      "_________________________________________________________________\n",
      "conv1d_5 (Conv1D)            (None, 94, 32)            3104      \n",
      "_________________________________________________________________\n",
      "conv1d_6 (Conv1D)            (None, 47, 32)            3104      \n",
      "_________________________________________________________________\n",
      "conv1d_7 (Conv1D)            (None, 24, 32)            3104      \n",
      "_________________________________________________________________\n",
      "conv1d_8 (Conv1D)            (None, 12, 32)            3104      \n",
      "_________________________________________________________________\n",
      "conv1d_9 (Conv1D)            (None, 6, 32)             3104      \n",
      "_________________________________________________________________\n",
      "conv1d_10 (Conv1D)           (None, 3, 32)             3104      \n",
      "_________________________________________________________________\n",
      "flatten (Flatten)            (None, 96)                0         \n",
      "_________________________________________________________________\n",
      "dense (Dense)                (None, 48)                4656      \n",
      "_________________________________________________________________\n",
      "dense_1 (Dense)              (None, 7)                 343       \n",
      "=================================================================\n",
      "Total params: 36,359\n",
      "Trainable params: 36,359\n",
      "Non-trainable params: 0\n",
      "_________________________________________________________________\n"
     ]
    }
   ],
   "source": [
    "c = 32 #number of channerls per conv layer\n",
    "k_size = 3 #size of the convolution kernel\n",
    "depth = 7\n",
    "\n",
    "network = models.Sequential()\n",
    "network.add(Conv1D(c, k_size, activation='relu', strides=2, padding='SAME', input_shape=(6000,3)))\n",
    "for lay in range(10):\n",
    "    network.add(Conv1D(c, k_size, activation='relu', strides=2, padding='SAME'))\n",
    "    \n",
    "network.add(Flatten())\n",
    "network.add(Dense(48, activation='relu'))\n",
    "network.add(Dense(7, activation='softmax'))\n",
    "\n",
    "network.compile(optimizer=Adam(lr=1e-4), loss='categorical_crossentropy', metrics=['accuracy'] )\n",
    "\n",
    "network.summary()"
   ]
  },
  {
   "cell_type": "markdown",
   "metadata": {},
   "source": [
    "## Fit"
   ]
  },
  {
   "cell_type": "code",
   "execution_count": 12,
   "metadata": {
    "ExecuteTime": {
     "end_time": "2020-02-07T08:50:27.266497Z",
     "start_time": "2020-02-07T08:50:27.263299Z"
    }
   },
   "outputs": [],
   "source": [
    "HP_epochs = 20\n",
    "HP_ES_patience = 5\n",
    "HP_RLR_patience = 2\n",
    "HP_batch_size = 2000\n",
    "network_name = '03_DL_TensorFlow'"
   ]
  },
  {
   "cell_type": "code",
   "execution_count": 13,
   "metadata": {
    "ExecuteTime": {
     "end_time": "2020-02-07T09:43:51.109635Z",
     "start_time": "2020-02-07T08:50:27.268519Z"
    }
   },
   "outputs": [
    {
     "name": "stdout",
     "output_type": "stream",
     "text": [
      "Train on 12308 samples, validate on 3078 samples\n",
      "Epoch 1/20\n",
      "12308/12308 [==============================] - 19s 2ms/sample - loss: 384.2958 - accuracy: 0.0813 - val_loss: 267.8374 - val_accuracy: 0.0689\n",
      "Epoch 2/20\n",
      "12308/12308 [==============================] - 23s 2ms/sample - loss: 260.8633 - accuracy: 0.0749 - val_loss: 193.9651 - val_accuracy: 0.0666\n",
      "Epoch 3/20\n",
      "12308/12308 [==============================] - 17s 1ms/sample - loss: 182.6924 - accuracy: 0.0702 - val_loss: 144.4583 - val_accuracy: 0.0624\n",
      "Epoch 4/20\n",
      "12308/12308 [==============================] - 20s 2ms/sample - loss: 136.3445 - accuracy: 0.0688 - val_loss: 111.5543 - val_accuracy: 0.0604\n",
      "Epoch 5/20\n",
      "12308/12308 [==============================] - 18s 1ms/sample - loss: 108.8840 - accuracy: 0.0668 - val_loss: 92.8356 - val_accuracy: 0.0621\n",
      "Epoch 6/20\n",
      "12308/12308 [==============================] - 17s 1ms/sample - loss: 91.3643 - accuracy: 0.0648 - val_loss: 78.7208 - val_accuracy: 0.0637\n",
      "Epoch 7/20\n",
      "12308/12308 [==============================] - 18s 1ms/sample - loss: 77.0221 - accuracy: 0.0648 - val_loss: 67.5040 - val_accuracy: 0.0640\n",
      "Epoch 8/20\n",
      "12308/12308 [==============================] - 17s 1ms/sample - loss: 65.0471 - accuracy: 0.0657 - val_loss: 58.3821 - val_accuracy: 0.0653\n",
      "Epoch 9/20\n",
      "12308/12308 [==============================] - 16s 1ms/sample - loss: 54.6823 - accuracy: 0.0668 - val_loss: 51.0255 - val_accuracy: 0.0650\n",
      "Epoch 10/20\n",
      "12308/12308 [==============================] - 16s 1ms/sample - loss: 47.4392 - accuracy: 0.0676 - val_loss: 44.6243 - val_accuracy: 0.0650\n",
      "Epoch 11/20\n",
      "12308/12308 [==============================] - 16s 1ms/sample - loss: 39.6702 - accuracy: 0.0677 - val_loss: 39.8847 - val_accuracy: 0.0712\n",
      "Epoch 12/20\n",
      "12308/12308 [==============================] - 16s 1ms/sample - loss: 33.9192 - accuracy: 0.0691 - val_loss: 35.8137 - val_accuracy: 0.0705\n",
      "Epoch 13/20\n",
      "12308/12308 [==============================] - 16s 1ms/sample - loss: 29.1768 - accuracy: 0.0695 - val_loss: 32.1286 - val_accuracy: 0.0737\n",
      "Epoch 14/20\n",
      "12308/12308 [==============================] - 15s 1ms/sample - loss: 25.2202 - accuracy: 0.0709 - val_loss: 28.7218 - val_accuracy: 0.0747\n",
      "Epoch 15/20\n",
      "12308/12308 [==============================] - 17s 1ms/sample - loss: 21.5115 - accuracy: 0.0733 - val_loss: 25.6757 - val_accuracy: 0.0770\n",
      "Epoch 16/20\n",
      "12308/12308 [==============================] - 16s 1ms/sample - loss: 18.6762 - accuracy: 0.0778 - val_loss: 22.8671 - val_accuracy: 0.0825\n",
      "Epoch 17/20\n",
      "12308/12308 [==============================] - 2875s 234ms/sample - loss: 16.1179 - accuracy: 0.0831 - val_loss: 20.5594 - val_accuracy: 0.0871\n",
      "Epoch 18/20\n",
      "12308/12308 [==============================] - 19s 2ms/sample - loss: 14.3386 - accuracy: 0.0881 - val_loss: 18.4592 - val_accuracy: 0.0936\n",
      "Epoch 19/20\n",
      "12308/12308 [==============================] - 18s 1ms/sample - loss: 12.8221 - accuracy: 0.0930 - val_loss: 16.6340 - val_accuracy: 0.0981\n",
      "Epoch 20/20\n",
      "12308/12308 [==============================] - 16s 1ms/sample - loss: 11.4463 - accuracy: 0.0984 - val_loss: 15.1158 - val_accuracy: 0.1049\n"
     ]
    }
   ],
   "source": [
    "cnn_net = network.fit(x=X_train,\n",
    "                      y=y_train,\n",
    "                      epochs=HP_epochs,\n",
    "                      verbose=1,\n",
    "                      batch_size=HP_batch_size,\n",
    "                      validation_data=(X_test, y_test),\n",
    "                      callbacks=[\n",
    "                          EarlyStopping(monitor='val_loss', patience=HP_ES_patience),\n",
    "                          ReduceLROnPlateau(verbose=1, patience=HP_RLR_patience, monitor='val_loss')\n",
    "                      ])"
   ]
  },
  {
   "cell_type": "code",
   "execution_count": 14,
   "metadata": {
    "ExecuteTime": {
     "end_time": "2020-02-07T09:43:53.033694Z",
     "start_time": "2020-02-07T09:43:51.124798Z"
    }
   },
   "outputs": [],
   "source": [
    "y_pred = network.predict(X_test)"
   ]
  },
  {
   "cell_type": "markdown",
   "metadata": {},
   "source": [
    "## Network Performance"
   ]
  },
  {
   "cell_type": "code",
   "execution_count": 15,
   "metadata": {
    "ExecuteTime": {
     "end_time": "2020-02-07T09:43:53.085877Z",
     "start_time": "2020-02-07T09:43:53.036872Z"
    }
   },
   "outputs": [
    {
     "data": {
      "text/html": [
       "<div>\n",
       "<style scoped>\n",
       "    .dataframe tbody tr th:only-of-type {\n",
       "        vertical-align: middle;\n",
       "    }\n",
       "\n",
       "    .dataframe tbody tr th {\n",
       "        vertical-align: top;\n",
       "    }\n",
       "\n",
       "    .dataframe thead th {\n",
       "        text-align: right;\n",
       "    }\n",
       "</style>\n",
       "<table border=\"1\" class=\"dataframe\">\n",
       "  <thead>\n",
       "    <tr style=\"text-align: right;\">\n",
       "      <th></th>\n",
       "      <th>loss</th>\n",
       "      <th>accuracy</th>\n",
       "      <th>val_loss</th>\n",
       "      <th>val_accuracy</th>\n",
       "      <th>lr</th>\n",
       "    </tr>\n",
       "  </thead>\n",
       "  <tbody>\n",
       "    <tr>\n",
       "      <th>0</th>\n",
       "      <td>384.295785</td>\n",
       "      <td>0.081329</td>\n",
       "      <td>267.837357</td>\n",
       "      <td>0.068876</td>\n",
       "      <td>0.0001</td>\n",
       "    </tr>\n",
       "    <tr>\n",
       "      <th>1</th>\n",
       "      <td>260.863320</td>\n",
       "      <td>0.074911</td>\n",
       "      <td>193.965109</td>\n",
       "      <td>0.066602</td>\n",
       "      <td>0.0001</td>\n",
       "    </tr>\n",
       "    <tr>\n",
       "      <th>2</th>\n",
       "      <td>182.692388</td>\n",
       "      <td>0.070198</td>\n",
       "      <td>144.458256</td>\n",
       "      <td>0.062378</td>\n",
       "      <td>0.0001</td>\n",
       "    </tr>\n",
       "    <tr>\n",
       "      <th>3</th>\n",
       "      <td>136.344519</td>\n",
       "      <td>0.068817</td>\n",
       "      <td>111.554280</td>\n",
       "      <td>0.060429</td>\n",
       "      <td>0.0001</td>\n",
       "    </tr>\n",
       "    <tr>\n",
       "      <th>4</th>\n",
       "      <td>108.884025</td>\n",
       "      <td>0.066786</td>\n",
       "      <td>92.835638</td>\n",
       "      <td>0.062053</td>\n",
       "      <td>0.0001</td>\n",
       "    </tr>\n",
       "    <tr>\n",
       "      <th>5</th>\n",
       "      <td>91.364272</td>\n",
       "      <td>0.064836</td>\n",
       "      <td>78.720759</td>\n",
       "      <td>0.063678</td>\n",
       "      <td>0.0001</td>\n",
       "    </tr>\n",
       "    <tr>\n",
       "      <th>6</th>\n",
       "      <td>77.022133</td>\n",
       "      <td>0.064755</td>\n",
       "      <td>67.504035</td>\n",
       "      <td>0.064003</td>\n",
       "      <td>0.0001</td>\n",
       "    </tr>\n",
       "    <tr>\n",
       "      <th>7</th>\n",
       "      <td>65.047053</td>\n",
       "      <td>0.065730</td>\n",
       "      <td>58.382107</td>\n",
       "      <td>0.065302</td>\n",
       "      <td>0.0001</td>\n",
       "    </tr>\n",
       "    <tr>\n",
       "      <th>8</th>\n",
       "      <td>54.682293</td>\n",
       "      <td>0.066786</td>\n",
       "      <td>51.025469</td>\n",
       "      <td>0.064977</td>\n",
       "      <td>0.0001</td>\n",
       "    </tr>\n",
       "    <tr>\n",
       "      <th>9</th>\n",
       "      <td>47.439241</td>\n",
       "      <td>0.067598</td>\n",
       "      <td>44.624313</td>\n",
       "      <td>0.064977</td>\n",
       "      <td>0.0001</td>\n",
       "    </tr>\n",
       "    <tr>\n",
       "      <th>10</th>\n",
       "      <td>39.670184</td>\n",
       "      <td>0.067680</td>\n",
       "      <td>39.884720</td>\n",
       "      <td>0.071150</td>\n",
       "      <td>0.0001</td>\n",
       "    </tr>\n",
       "    <tr>\n",
       "      <th>11</th>\n",
       "      <td>33.919180</td>\n",
       "      <td>0.069061</td>\n",
       "      <td>35.813701</td>\n",
       "      <td>0.070500</td>\n",
       "      <td>0.0001</td>\n",
       "    </tr>\n",
       "    <tr>\n",
       "      <th>12</th>\n",
       "      <td>29.176843</td>\n",
       "      <td>0.069548</td>\n",
       "      <td>32.128641</td>\n",
       "      <td>0.073749</td>\n",
       "      <td>0.0001</td>\n",
       "    </tr>\n",
       "    <tr>\n",
       "      <th>13</th>\n",
       "      <td>25.220218</td>\n",
       "      <td>0.070929</td>\n",
       "      <td>28.721796</td>\n",
       "      <td>0.074724</td>\n",
       "      <td>0.0001</td>\n",
       "    </tr>\n",
       "    <tr>\n",
       "      <th>14</th>\n",
       "      <td>21.511533</td>\n",
       "      <td>0.073286</td>\n",
       "      <td>25.675698</td>\n",
       "      <td>0.076998</td>\n",
       "      <td>0.0001</td>\n",
       "    </tr>\n",
       "    <tr>\n",
       "      <th>15</th>\n",
       "      <td>18.676222</td>\n",
       "      <td>0.077754</td>\n",
       "      <td>22.867124</td>\n",
       "      <td>0.082521</td>\n",
       "      <td>0.0001</td>\n",
       "    </tr>\n",
       "    <tr>\n",
       "      <th>16</th>\n",
       "      <td>16.117881</td>\n",
       "      <td>0.083117</td>\n",
       "      <td>20.559420</td>\n",
       "      <td>0.087070</td>\n",
       "      <td>0.0001</td>\n",
       "    </tr>\n",
       "    <tr>\n",
       "      <th>17</th>\n",
       "      <td>14.338603</td>\n",
       "      <td>0.088073</td>\n",
       "      <td>18.459212</td>\n",
       "      <td>0.093567</td>\n",
       "      <td>0.0001</td>\n",
       "    </tr>\n",
       "    <tr>\n",
       "      <th>18</th>\n",
       "      <td>12.822057</td>\n",
       "      <td>0.093029</td>\n",
       "      <td>16.633958</td>\n",
       "      <td>0.098116</td>\n",
       "      <td>0.0001</td>\n",
       "    </tr>\n",
       "    <tr>\n",
       "      <th>19</th>\n",
       "      <td>11.446335</td>\n",
       "      <td>0.098391</td>\n",
       "      <td>15.115792</td>\n",
       "      <td>0.104938</td>\n",
       "      <td>0.0001</td>\n",
       "    </tr>\n",
       "  </tbody>\n",
       "</table>\n",
       "</div>"
      ],
      "text/plain": [
       "          loss  accuracy    val_loss  val_accuracy      lr\n",
       "0   384.295785  0.081329  267.837357      0.068876  0.0001\n",
       "1   260.863320  0.074911  193.965109      0.066602  0.0001\n",
       "2   182.692388  0.070198  144.458256      0.062378  0.0001\n",
       "3   136.344519  0.068817  111.554280      0.060429  0.0001\n",
       "4   108.884025  0.066786   92.835638      0.062053  0.0001\n",
       "5    91.364272  0.064836   78.720759      0.063678  0.0001\n",
       "6    77.022133  0.064755   67.504035      0.064003  0.0001\n",
       "7    65.047053  0.065730   58.382107      0.065302  0.0001\n",
       "8    54.682293  0.066786   51.025469      0.064977  0.0001\n",
       "9    47.439241  0.067598   44.624313      0.064977  0.0001\n",
       "10   39.670184  0.067680   39.884720      0.071150  0.0001\n",
       "11   33.919180  0.069061   35.813701      0.070500  0.0001\n",
       "12   29.176843  0.069548   32.128641      0.073749  0.0001\n",
       "13   25.220218  0.070929   28.721796      0.074724  0.0001\n",
       "14   21.511533  0.073286   25.675698      0.076998  0.0001\n",
       "15   18.676222  0.077754   22.867124      0.082521  0.0001\n",
       "16   16.117881  0.083117   20.559420      0.087070  0.0001\n",
       "17   14.338603  0.088073   18.459212      0.093567  0.0001\n",
       "18   12.822057  0.093029   16.633958      0.098116  0.0001\n",
       "19   11.446335  0.098391   15.115792      0.104938  0.0001"
      ]
     },
     "execution_count": 15,
     "metadata": {},
     "output_type": "execute_result"
    }
   ],
   "source": [
    "pd.DataFrame(cnn_net.history)"
   ]
  },
  {
   "cell_type": "code",
   "execution_count": 16,
   "metadata": {
    "ExecuteTime": {
     "end_time": "2020-02-07T09:43:55.643041Z",
     "start_time": "2020-02-07T09:43:53.087932Z"
    }
   },
   "outputs": [
    {
     "data": {
      "image/png": "[encoded data removed]",
      "text/plain": [
       "<Figure size 1440x360 with 2 Axes>"
      ]
     },
     "metadata": {
      "needs_background": "light"
     },
     "output_type": "display_data"
    }
   ],
   "source": [
    "plot_network_learning_graphs(cnn_net)"
   ]
  },
  {
   "cell_type": "markdown",
   "metadata": {},
   "source": [
    "## Error Rate"
   ]
  },
  {
   "cell_type": "code",
   "execution_count": 17,
   "metadata": {
    "ExecuteTime": {
     "end_time": "2020-02-07T09:43:55.648350Z",
     "start_time": "2020-02-07T09:43:55.644630Z"
    }
   },
   "outputs": [
    {
     "data": {
      "text/plain": [
       "0.8950617283950617"
      ]
     },
     "execution_count": 17,
     "metadata": {},
     "output_type": "execute_result"
    }
   ],
   "source": [
    "error_rate(y_test.argmax(1), y_pred.argmax(1))"
   ]
  },
  {
   "cell_type": "markdown",
   "metadata": {},
   "source": [
    "## Classification Report"
   ]
  },
  {
   "cell_type": "code",
   "execution_count": 18,
   "metadata": {
    "ExecuteTime": {
     "end_time": "2020-02-07T09:43:55.659763Z",
     "start_time": "2020-02-07T09:43:55.650080Z"
    }
   },
   "outputs": [
    {
     "name": "stdout",
     "output_type": "stream",
     "text": [
      "              precision    recall  f1-score   support\n",
      "\n",
      "           0       0.01      0.01      0.01       439\n",
      "           1       0.00      0.00      0.00       439\n",
      "           2       0.21      0.13      0.16       440\n",
      "           3       0.21      0.30      0.25       440\n",
      "           4       0.15      0.09      0.11       440\n",
      "           5       0.07      0.04      0.05       440\n",
      "           6       0.07      0.16      0.10       440\n",
      "\n",
      "    accuracy                           0.10      3078\n",
      "   macro avg       0.10      0.10      0.10      3078\n",
      "weighted avg       0.10      0.10      0.10      3078\n",
      "\n"
     ]
    }
   ],
   "source": [
    "print(classification_report(y_test.argmax(1), y_pred.argmax(1)))"
   ]
  },
  {
   "cell_type": "markdown",
   "metadata": {},
   "source": [
    "## Confusion Matrix"
   ]
  },
  {
   "cell_type": "code",
   "execution_count": 19,
   "metadata": {
    "ExecuteTime": {
     "end_time": "2020-02-07T09:43:56.070267Z",
     "start_time": "2020-02-07T09:43:55.661463Z"
    }
   },
   "outputs": [
    {
     "data": {
      "image/png": "[encoded data removed]",
      "text/plain": [
       "<Figure size 1296x1008 with 2 Axes>"
      ]
     },
     "metadata": {
      "needs_background": "light"
     },
     "output_type": "display_data"
    }
   ],
   "source": [
    "plot_confustion_matrix(y_test, y_pred, df, prob=True)"
   ]
  }
 ],
 "metadata": {
  "hide_input": false,
  "kernelspec": {
   "display_name": "Python 3",
   "language": "python",
   "name": "python3"
  },
  "language_info": {
   "codemirror_mode": {
    "name": "ipython",
    "version": 3
   },
   "file_extension": ".py",
   "mimetype": "text/x-python",
   "name": "python",
   "nbconvert_exporter": "python",
   "pygments_lexer": "ipython3",
   "version": "3.7.5"
  },
  "toc": {
   "base_numbering": 1,
   "nav_menu": {},
   "number_sections": true,
   "sideBar": true,
   "skip_h1_title": false,
   "title_cell": "Table of Contents",
   "title_sidebar": "Contents",
   "toc_cell": false,
   "toc_position": {
    "height": "calc(100% - 180px)",
    "left": "10px",
    "top": "150px",
    "width": "336px"
   },
   "toc_section_display": true,
   "toc_window_display": true
  }
 },
 "nbformat": 4,
 "nbformat_minor": 2
}
