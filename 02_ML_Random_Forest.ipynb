{
 "cells": [
  {
   "cell_type": "code",
   "execution_count": 1,
   "metadata": {
    "ExecuteTime": {
     "end_time": "2020-02-07T08:48:55.962027Z",
     "start_time": "2020-02-07T08:48:52.526849Z"
    }
   },
   "outputs": [],
   "source": [
    "import os\n",
    "import numpy as np\n",
    "import pandas as pd\n",
    "import sklearn.metrics as metrics\n",
    "from sklearn.ensemble import RandomForestClassifier\n",
    "from sklearn.metrics import classification_report\n",
    "import matplotlib.pyplot as plt\n",
    "from MachineLearningUtils import plot_confustion_matrix, error_rate"
   ]
  },
  {
   "cell_type": "markdown",
   "metadata": {},
   "source": [
    "# import data"
   ]
  },
  {
   "cell_type": "code",
   "execution_count": 2,
   "metadata": {
    "ExecuteTime": {
     "end_time": "2020-02-07T08:49:10.701666Z",
     "start_time": "2020-02-07T08:48:55.964233Z"
    }
   },
   "outputs": [],
   "source": [
    "df = pd.read_pickle('./data/df_train.pkl.gzip', compression = 'gzip')"
   ]
  },
  {
   "cell_type": "code",
   "execution_count": 3,
   "metadata": {
    "ExecuteTime": {
     "end_time": "2020-02-07T08:49:10.750240Z",
     "start_time": "2020-02-07T08:49:10.704687Z"
    }
   },
   "outputs": [
    {
     "data": {
      "text/html": [
       "<div>\n",
       "<style scoped>\n",
       "    .dataframe tbody tr th:only-of-type {\n",
       "        vertical-align: middle;\n",
       "    }\n",
       "\n",
       "    .dataframe tbody tr th {\n",
       "        vertical-align: top;\n",
       "    }\n",
       "\n",
       "    .dataframe thead th {\n",
       "        text-align: right;\n",
       "    }\n",
       "</style>\n",
       "<table border=\"1\" class=\"dataframe\">\n",
       "  <thead>\n",
       "    <tr style=\"text-align: right;\">\n",
       "      <th></th>\n",
       "      <th>label</th>\n",
       "      <th>target</th>\n",
       "      <th>trace_id</th>\n",
       "      <th>receiver_latitude</th>\n",
       "      <th>receiver_longitude</th>\n",
       "      <th>receiver_elevation_m</th>\n",
       "      <th>p_arrival_sample</th>\n",
       "      <th>p_travel_sec</th>\n",
       "      <th>s_arrival_sample</th>\n",
       "      <th>source_origin_time</th>\n",
       "      <th>source_latitude</th>\n",
       "      <th>source_longitude</th>\n",
       "      <th>source_depth_km</th>\n",
       "      <th>snr_db_E</th>\n",
       "      <th>snr_db_N</th>\n",
       "      <th>snr_db_Z</th>\n",
       "      <th>E</th>\n",
       "      <th>N</th>\n",
       "      <th>Z</th>\n",
       "    </tr>\n",
       "  </thead>\n",
       "  <tbody>\n",
       "    <tr>\n",
       "      <td>1</td>\n",
       "      <td>Near_Small</td>\n",
       "      <td>1</td>\n",
       "      <td>trace_1</td>\n",
       "      <td>33.598182</td>\n",
       "      <td>-116.596005</td>\n",
       "      <td>1374.8</td>\n",
       "      <td>500.0</td>\n",
       "      <td>7.39588</td>\n",
       "      <td>1833.0</td>\n",
       "      <td>2017-10-12 02:55:02.969</td>\n",
       "      <td>35.561667</td>\n",
       "      <td>-116.5697</td>\n",
       "      <td>13.92</td>\n",
       "      <td>39.799999</td>\n",
       "      <td>41.599998</td>\n",
       "      <td>39.500000</td>\n",
       "      <td>[0.0, 3.884492e-05, 0.00037855064, 0.002025907...</td>\n",
       "      <td>[-0.0, -0.00013965365, 0.00040082424, -0.00251...</td>\n",
       "      <td>[0.0, 0.00020642515, -0.00026392427, 0.0005670...</td>\n",
       "    </tr>\n",
       "    <tr>\n",
       "      <td>2</td>\n",
       "      <td>Far_Medium</td>\n",
       "      <td>5</td>\n",
       "      <td>trace_2</td>\n",
       "      <td>33.655160</td>\n",
       "      <td>-115.990060</td>\n",
       "      <td>538.0</td>\n",
       "      <td>800.0</td>\n",
       "      <td>8.64000</td>\n",
       "      <td>2055.2</td>\n",
       "      <td>2012-05-29 21:39:41.030</td>\n",
       "      <td>69.509000</td>\n",
       "      <td>-116.3350</td>\n",
       "      <td>5.56</td>\n",
       "      <td>22.900000</td>\n",
       "      <td>28.299999</td>\n",
       "      <td>22.299999</td>\n",
       "      <td>[-0.0, 0.007055464, 0.02053014, -0.08816139, -...</td>\n",
       "      <td>[0.0, 0.0045861118, -0.013594023, -0.06492513,...</td>\n",
       "      <td>[0.0, 0.010553602, 0.04499443, 0.07075505, -0....</td>\n",
       "    </tr>\n",
       "    <tr>\n",
       "      <td>4</td>\n",
       "      <td>Near_Medium</td>\n",
       "      <td>2</td>\n",
       "      <td>trace_4</td>\n",
       "      <td>19.333395</td>\n",
       "      <td>-155.385650</td>\n",
       "      <td>836.0</td>\n",
       "      <td>900.0</td>\n",
       "      <td>7.77000</td>\n",
       "      <td>1401.0</td>\n",
       "      <td>2018-04-23 03:03:17.385</td>\n",
       "      <td>33.075200</td>\n",
       "      <td>73.6821</td>\n",
       "      <td>9.41</td>\n",
       "      <td>12.600000</td>\n",
       "      <td>22.000000</td>\n",
       "      <td>18.299999</td>\n",
       "      <td>[0.0, 0.00087343936, 0.001654511, 0.003251037,...</td>\n",
       "      <td>[-0.0, -0.0024113357, -0.0057321144, -0.017913...</td>\n",
       "      <td>[-0.0, -0.00079455395, -0.0040257163, -0.01145...</td>\n",
       "    </tr>\n",
       "    <tr>\n",
       "      <td>5</td>\n",
       "      <td>Far_Small</td>\n",
       "      <td>4</td>\n",
       "      <td>trace_5</td>\n",
       "      <td>35.935700</td>\n",
       "      <td>-117.601700</td>\n",
       "      <td>1042.6</td>\n",
       "      <td>800.0</td>\n",
       "      <td>2.68000</td>\n",
       "      <td>1416.0</td>\n",
       "      <td>2013-03-11 16:56:06.060</td>\n",
       "      <td>38.612300</td>\n",
       "      <td>-122.6970</td>\n",
       "      <td>118.79</td>\n",
       "      <td>30.600000</td>\n",
       "      <td>29.100000</td>\n",
       "      <td>33.000000</td>\n",
       "      <td>[-0.0, -0.00044424256, -0.00061723316, -0.0027...</td>\n",
       "      <td>[0.0, 2.6028414e-05, -0.00040918458, 0.0047532...</td>\n",
       "      <td>[0.0, 0.00034063237, 0.0003412804, 0.000484175...</td>\n",
       "    </tr>\n",
       "    <tr>\n",
       "      <td>6</td>\n",
       "      <td>Noise</td>\n",
       "      <td>0</td>\n",
       "      <td>trace_6</td>\n",
       "      <td>64.564600</td>\n",
       "      <td>-165.373200</td>\n",
       "      <td>338.0</td>\n",
       "      <td>697.2</td>\n",
       "      <td>1.41000</td>\n",
       "      <td>674.0</td>\n",
       "      <td>2018-01-05 13:16:17.060</td>\n",
       "      <td>60.036800</td>\n",
       "      <td>-155.2055</td>\n",
       "      <td>2.17</td>\n",
       "      <td>47.099998</td>\n",
       "      <td>18.100000</td>\n",
       "      <td>49.400002</td>\n",
       "      <td>[-0.0, -0.0059266915, -0.01604839, -0.04224359...</td>\n",
       "      <td>[-0.0, -0.0059266915, -0.01604839, -0.04224359...</td>\n",
       "      <td>[-0.0, -0.0059266915, -0.01604839, -0.04224359...</td>\n",
       "    </tr>\n",
       "  </tbody>\n",
       "</table>\n",
       "</div>"
      ],
      "text/plain": [
       "         label  target trace_id  receiver_latitude  receiver_longitude  \\\n",
       "1   Near_Small       1  trace_1          33.598182         -116.596005   \n",
       "2   Far_Medium       5  trace_2          33.655160         -115.990060   \n",
       "4  Near_Medium       2  trace_4          19.333395         -155.385650   \n",
       "5    Far_Small       4  trace_5          35.935700         -117.601700   \n",
       "6        Noise       0  trace_6          64.564600         -165.373200   \n",
       "\n",
       "   receiver_elevation_m  p_arrival_sample  p_travel_sec  s_arrival_sample  \\\n",
       "1                1374.8             500.0       7.39588            1833.0   \n",
       "2                 538.0             800.0       8.64000            2055.2   \n",
       "4                 836.0             900.0       7.77000            1401.0   \n",
       "5                1042.6             800.0       2.68000            1416.0   \n",
       "6                 338.0             697.2       1.41000             674.0   \n",
       "\n",
       "       source_origin_time  source_latitude  source_longitude  source_depth_km  \\\n",
       "1 2017-10-12 02:55:02.969        35.561667         -116.5697            13.92   \n",
       "2 2012-05-29 21:39:41.030        69.509000         -116.3350             5.56   \n",
       "4 2018-04-23 03:03:17.385        33.075200           73.6821             9.41   \n",
       "5 2013-03-11 16:56:06.060        38.612300         -122.6970           118.79   \n",
       "6 2018-01-05 13:16:17.060        60.036800         -155.2055             2.17   \n",
       "\n",
       "    snr_db_E   snr_db_N   snr_db_Z  \\\n",
       "1  39.799999  41.599998  39.500000   \n",
       "2  22.900000  28.299999  22.299999   \n",
       "4  12.600000  22.000000  18.299999   \n",
       "5  30.600000  29.100000  33.000000   \n",
       "6  47.099998  18.100000  49.400002   \n",
       "\n",
       "                                                   E  \\\n",
       "1  [0.0, 3.884492e-05, 0.00037855064, 0.002025907...   \n",
       "2  [-0.0, 0.007055464, 0.02053014, -0.08816139, -...   \n",
       "4  [0.0, 0.00087343936, 0.001654511, 0.003251037,...   \n",
       "5  [-0.0, -0.00044424256, -0.00061723316, -0.0027...   \n",
       "6  [-0.0, -0.0059266915, -0.01604839, -0.04224359...   \n",
       "\n",
       "                                                   N  \\\n",
       "1  [-0.0, -0.00013965365, 0.00040082424, -0.00251...   \n",
       "2  [0.0, 0.0045861118, -0.013594023, -0.06492513,...   \n",
       "4  [-0.0, -0.0024113357, -0.0057321144, -0.017913...   \n",
       "5  [0.0, 2.6028414e-05, -0.00040918458, 0.0047532...   \n",
       "6  [-0.0, -0.0059266915, -0.01604839, -0.04224359...   \n",
       "\n",
       "                                                   Z  \n",
       "1  [0.0, 0.00020642515, -0.00026392427, 0.0005670...  \n",
       "2  [0.0, 0.010553602, 0.04499443, 0.07075505, -0....  \n",
       "4  [-0.0, -0.00079455395, -0.0040257163, -0.01145...  \n",
       "5  [0.0, 0.00034063237, 0.0003412804, 0.000484175...  \n",
       "6  [-0.0, -0.0059266915, -0.01604839, -0.04224359...  "
      ]
     },
     "execution_count": 3,
     "metadata": {},
     "output_type": "execute_result"
    }
   ],
   "source": [
    "df.head()"
   ]
  },
  {
   "cell_type": "code",
   "execution_count": 4,
   "metadata": {
    "ExecuteTime": {
     "end_time": "2020-02-07T08:49:10.757175Z",
     "start_time": "2020-02-07T08:49:10.753260Z"
    }
   },
   "outputs": [
    {
     "data": {
      "text/plain": [
       "(12308, 19)"
      ]
     },
     "execution_count": 4,
     "metadata": {},
     "output_type": "execute_result"
    }
   ],
   "source": [
    "df.shape"
   ]
  },
  {
   "cell_type": "markdown",
   "metadata": {},
   "source": [
    "# Prepare & Check data "
   ]
  },
  {
   "cell_type": "code",
   "execution_count": 5,
   "metadata": {
    "ExecuteTime": {
     "end_time": "2020-02-07T08:49:10.771901Z",
     "start_time": "2020-02-07T08:49:10.759228Z"
    }
   },
   "outputs": [
    {
     "name": "stdout",
     "output_type": "stream",
     "text": [
      "X : \n",
      "receiver_latitude       12308\n",
      "receiver_longitude      12308\n",
      "receiver_elevation_m    12308\n",
      "p_arrival_sample        12308\n",
      "p_travel_sec            12308\n",
      "s_arrival_sample        12308\n",
      "source_origin_time      12308\n",
      "source_latitude         12308\n",
      "source_longitude        12308\n",
      "source_depth_km         12308\n",
      "snr_db_E                12308\n",
      "snr_db_N                12308\n",
      "snr_db_Z                12308\n",
      "dtype: int64\n",
      "\n",
      "Y: \n",
      "12308\n",
      "\n",
      "Distinct classes : 7\n"
     ]
    }
   ],
   "source": [
    "X = df.drop(['label','target','trace_id','E','N','Z'],axis=1)\n",
    "Y = df['target']\n",
    "\n",
    "print('X : ')\n",
    "print(X.count())\n",
    "print()\n",
    "print('Y: ')\n",
    "print(Y.count())\n",
    "\n",
    "Y_labels = Y\n",
    "Y_count_labels = len(set(Y))\n",
    "\n",
    "print()\n",
    "print('Distinct classes :', Y_count_labels)"
   ]
  },
  {
   "cell_type": "markdown",
   "metadata": {},
   "source": [
    "# Train-Test Split"
   ]
  },
  {
   "cell_type": "code",
   "execution_count": 6,
   "metadata": {
    "ExecuteTime": {
     "end_time": "2020-02-07T08:49:24.856085Z",
     "start_time": "2020-02-07T08:49:10.773977Z"
    }
   },
   "outputs": [],
   "source": [
    "X_train = pd.read_pickle('./data/df_train.pkl.gzip', compression='gzip').drop(['label','target','trace_id','E','N','Z','source_origin_time'],axis=1).dropna()\n",
    "X_test = pd.read_pickle('./data/df_test.pkl.gzip', compression='gzip').drop(['label','target','trace_id','E','N','Z','source_origin_time'],axis=1).dropna()\n",
    "y_train = pd.read_pickle('./data/df_train.pkl.gzip', compression='gzip')['target']\n",
    "y_test = pd.read_pickle('./data/df_test.pkl.gzip', compression='gzip')['target']"
   ]
  },
  {
   "cell_type": "code",
   "execution_count": 7,
   "metadata": {
    "ExecuteTime": {
     "end_time": "2020-02-07T08:49:24.867740Z",
     "start_time": "2020-02-07T08:49:24.858102Z"
    }
   },
   "outputs": [
    {
     "name": "stdout",
     "output_type": "stream",
     "text": [
      "X_train : \n",
      "receiver_latitude       12308\n",
      "receiver_longitude      12308\n",
      "receiver_elevation_m    12308\n",
      "p_arrival_sample        12308\n",
      "p_travel_sec            12308\n",
      "s_arrival_sample        12308\n",
      "source_latitude         12308\n",
      "source_longitude        12308\n",
      "source_depth_km         12308\n",
      "snr_db_E                12308\n",
      "snr_db_N                12308\n",
      "snr_db_Z                12308\n",
      "dtype: int64\n",
      "\n",
      "Y_train: \n",
      "12308\n",
      "\n",
      "X_test: \n",
      "receiver_latitude       3078\n",
      "receiver_longitude      3078\n",
      "receiver_elevation_m    3078\n",
      "p_arrival_sample        3078\n",
      "p_travel_sec            3078\n",
      "s_arrival_sample        3078\n",
      "source_latitude         3078\n",
      "source_longitude        3078\n",
      "source_depth_km         3078\n",
      "snr_db_E                3078\n",
      "snr_db_N                3078\n",
      "snr_db_Z                3078\n",
      "dtype: int64\n",
      "\n",
      "Y_test: \n",
      "3078\n"
     ]
    }
   ],
   "source": [
    "print('X_train : ')\n",
    "print(X_train.count())\n",
    "print()\n",
    "print('Y_train: ')\n",
    "print(y_train.size)\n",
    "print()\n",
    "print('X_test: ')\n",
    "print(X_test.count())\n",
    "print()\n",
    "print('Y_test: ')\n",
    "print(y_test.size)"
   ]
  },
  {
   "cell_type": "markdown",
   "metadata": {},
   "source": [
    "# Random Forest Classifier\n",
    "##  Modelling"
   ]
  },
  {
   "cell_type": "code",
   "execution_count": 8,
   "metadata": {
    "ExecuteTime": {
     "end_time": "2020-02-07T08:49:24.958894Z",
     "start_time": "2020-02-07T08:49:24.870386Z"
    }
   },
   "outputs": [
    {
     "name": "stderr",
     "output_type": "stream",
     "text": [
      "[Parallel(n_jobs=1)]: Using backend SequentialBackend with 1 concurrent workers.\n",
      "[Parallel(n_jobs=1)]: Done  10 out of  10 | elapsed:    0.1s finished\n",
      "[Parallel(n_jobs=1)]: Using backend SequentialBackend with 1 concurrent workers.\n",
      "[Parallel(n_jobs=1)]: Done  10 out of  10 | elapsed:    0.0s finished\n"
     ]
    }
   ],
   "source": [
    "rf = RandomForestClassifier(max_depth=5, n_estimators=10, max_features=1, verbose=1)\n",
    "rf.fit(X_train, y_train)\n",
    "y_pred = rf.predict(X_test)"
   ]
  },
  {
   "cell_type": "markdown",
   "metadata": {},
   "source": [
    "## Error Rate"
   ]
  },
  {
   "cell_type": "code",
   "execution_count": 9,
   "metadata": {
    "ExecuteTime": {
     "end_time": "2020-02-07T08:49:24.966357Z",
     "start_time": "2020-02-07T08:49:24.961265Z"
    }
   },
   "outputs": [
    {
     "data": {
      "text/plain": [
       "0.5428849902534113"
      ]
     },
     "execution_count": 9,
     "metadata": {},
     "output_type": "execute_result"
    }
   ],
   "source": [
    "error_rate(y_test, y_pred)"
   ]
  },
  {
   "cell_type": "markdown",
   "metadata": {},
   "source": [
    "## Classification Report"
   ]
  },
  {
   "cell_type": "code",
   "execution_count": 10,
   "metadata": {
    "ExecuteTime": {
     "end_time": "2020-02-07T08:49:24.980618Z",
     "start_time": "2020-02-07T08:49:24.968361Z"
    }
   },
   "outputs": [
    {
     "name": "stdout",
     "output_type": "stream",
     "text": [
      "              precision    recall  f1-score   support\n",
      "\n",
      "           0       0.62      0.53      0.57       439\n",
      "           1       0.42      0.47      0.44       439\n",
      "           2       0.52      0.33      0.40       440\n",
      "           3       0.49      0.78      0.60       440\n",
      "           4       0.45      0.51      0.48       440\n",
      "           5       0.35      0.24      0.28       440\n",
      "           6       0.34      0.35      0.35       440\n",
      "\n",
      "    accuracy                           0.46      3078\n",
      "   macro avg       0.46      0.46      0.45      3078\n",
      "weighted avg       0.46      0.46      0.45      3078\n",
      "\n"
     ]
    }
   ],
   "source": [
    "print(classification_report(y_test, y_pred))"
   ]
  },
  {
   "cell_type": "markdown",
   "metadata": {},
   "source": [
    "## Confusion Matrix"
   ]
  },
  {
   "cell_type": "code",
   "execution_count": 11,
   "metadata": {
    "ExecuteTime": {
     "end_time": "2020-02-07T08:49:25.445180Z",
     "start_time": "2020-02-07T08:49:24.986649Z"
    }
   },
   "outputs": [
    {
     "data": {
      "image/png": "[encoded data removed]",
      "text/plain": [
       "<Figure size 1296x1008 with 2 Axes>"
      ]
     },
     "metadata": {
      "needs_background": "light"
     },
     "output_type": "display_data"
    }
   ],
   "source": [
    "plot_confustion_matrix(y_test, y_pred, df,prob=False);\n"
   ]
  },
  {
   "cell_type": "markdown",
   "metadata": {},
   "source": [
    "## Feature Importance"
   ]
  },
  {
   "cell_type": "code",
   "execution_count": 12,
   "metadata": {
    "ExecuteTime": {
     "end_time": "2020-02-07T08:49:25.452639Z",
     "start_time": "2020-02-07T08:49:25.447262Z"
    }
   },
   "outputs": [
    {
     "data": {
      "text/plain": [
       "array([0.12957404, 0.10730133, 0.18869683, 0.01076418, 0.00547424,\n",
       "       0.00767595, 0.01095187, 0.01136323, 0.01228342, 0.10112613,\n",
       "       0.22718373, 0.18760504])"
      ]
     },
     "execution_count": 12,
     "metadata": {},
     "output_type": "execute_result"
    }
   ],
   "source": [
    "rf.feature_importances_"
   ]
  },
  {
   "cell_type": "code",
   "execution_count": 13,
   "metadata": {
    "ExecuteTime": {
     "end_time": "2020-02-07T08:49:25.610617Z",
     "start_time": "2020-02-07T08:49:25.454491Z"
    }
   },
   "outputs": [
    {
     "data": {
      "image/png": "[encoded data removed]",
      "text/plain": [
       "<Figure size 432x288 with 1 Axes>"
      ]
     },
     "metadata": {
      "needs_background": "light"
     },
     "output_type": "display_data"
    }
   ],
   "source": [
    "features = X_train.columns.tolist()\n",
    "importances = rf.feature_importances_\n",
    "indices = np.argsort(importances)\n",
    "\n",
    "plt.title('Random Forest Feature Importance')\n",
    "plt.barh(range(len(indices)), importances[indices], color='b', align='center')\n",
    "plt.yticks(range(len(indices)), [features[i] for i in indices])\n",
    "plt.xlabel('Relative Importance')\n",
    "plt.show()"
   ]
  },
  {
   "cell_type": "code",
   "execution_count": null,
   "metadata": {},
   "outputs": [],
   "source": []
  }
 ],
 "metadata": {
  "hide_input": false,
  "kernelspec": {
   "display_name": "Python 3",
   "language": "python",
   "name": "python3"
  },
  "language_info": {
   "codemirror_mode": {
    "name": "ipython",
    "version": 3
   },
   "file_extension": ".py",
   "mimetype": "text/x-python",
   "name": "python",
   "nbconvert_exporter": "python",
   "pygments_lexer": "ipython3",
   "version": "3.7.4"
  },
  "toc": {
   "base_numbering": 1,
   "nav_menu": {},
   "number_sections": true,
   "sideBar": true,
   "skip_h1_title": false,
   "title_cell": "Table of Contents",
   "title_sidebar": "Contents",
   "toc_cell": false,
   "toc_position": {
    "height": "calc(100% - 180px)",
    "left": "10px",
    "top": "150px",
    "width": "336px"
   },
   "toc_section_display": true,
   "toc_window_display": true
  }
 },
 "nbformat": 4,
 "nbformat_minor": 2
}
